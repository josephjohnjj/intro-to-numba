{
 "cells": [
  {
   "cell_type": "code",
   "execution_count": 1,
   "id": "5e3ba98c",
   "metadata": {},
   "outputs": [],
   "source": [
    "import numba\n",
    "from numba import jit, int32, prange, vectorize, float64, cuda\n",
    "import numpy as np\n",
    "import math"
   ]
  },
  {
   "cell_type": "markdown",
   "id": "0fd1c335",
   "metadata": {
    "solution2": "hidden",
    "solution2_first": true
   },
   "source": [
    "### What is the difference with and without automatic parallelization (ignore the first run)?\n",
    "hint: use *numba.prange* instead of *range*\n",
    "* With parallel:\n",
    "* Without parallel:"
   ]
  },
  {
   "cell_type": "code",
   "execution_count": 2,
   "id": "956e41cf",
   "metadata": {
    "solution2": "hidden"
   },
   "outputs": [],
   "source": [
    "@jit(parallel=True)\n",
    "def native_python_monte_carlo_parallel(n):\n",
    "    within_circle = 0\n",
    "    \n",
    "    for i in numba.prange(int(n)):\n",
    "        x = np.random.random()\n",
    "        y = np.random.random()\n",
    "        \n",
    "        if x**2 + y**2 <= 1.0:\n",
    "            within_circle += 1\n",
    "        \n",
    "    return 4.0 * within_circle / n"
   ]
  },
  {
   "cell_type": "code",
   "execution_count": 3,
   "id": "87b2d663",
   "metadata": {
    "solution2": "hidden"
   },
   "outputs": [
    {
     "name": "stdout",
     "output_type": "stream",
     "text": [
      "3.142224\n",
      "CPU times: user 922 ms, sys: 54.2 ms, total: 976 ms\n",
      "Wall time: 1.12 s\n"
     ]
    }
   ],
   "source": [
    "%%time\n",
    "print(native_python_monte_carlo_parallel(10000000))"
   ]
  }
 ],
 "metadata": {
  "kernelspec": {
   "display_name": "Python 3 (ipykernel)",
   "language": "python",
   "name": "python3"
  },
  "language_info": {
   "codemirror_mode": {
    "name": "ipython",
    "version": 3
   },
   "file_extension": ".py",
   "mimetype": "text/x-python",
   "name": "python",
   "nbconvert_exporter": "python",
   "pygments_lexer": "ipython3",
   "version": "3.11.0"
  }
 },
 "nbformat": 4,
 "nbformat_minor": 5
}
