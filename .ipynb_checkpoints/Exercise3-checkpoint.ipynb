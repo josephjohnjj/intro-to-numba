{
 "cells": [
  {
   "cell_type": "code",
   "execution_count": 1,
   "id": "37f8f218",
   "metadata": {},
   "outputs": [],
   "source": [
    "import numba\n",
    "from numba import jit, int32, prange, vectorize, float64, cuda\n",
    "import numpy as np\n",
    "import math"
   ]
  },
  {
   "cell_type": "markdown",
   "id": "87680c8b",
   "metadata": {},
   "source": [
    "### Offload the computation to a GPU\n",
    "* Assumptions:\n",
    "    * N <= 512\n",
    "* Hints:\n",
    "    * Launch one block with threads <= 512"
   ]
  },
  {
   "cell_type": "code",
   "execution_count": 2,
   "id": "a8cf14e0",
   "metadata": {
    "solution2": "hidden",
    "solution2_first": true
   },
   "outputs": [],
   "source": [
    "@cuda.jit\n",
    "def native_python_monte_kernel(array_a, array_b, array_c):\n",
    "    # Thread id in a 1D block\n",
    "    tx = cuda.threadIdx.x\n",
    " \n",
    "    if tx < array_a.size:  # Check array boundaries\n",
    "        array_c[tx] = 1 if array_a[tx]**2 + array_b[tx]**2 <= 1.0  else 0"
   ]
  },
  {
   "cell_type": "code",
   "execution_count": 4,
   "id": "c6d52e7e",
   "metadata": {
    "solution2": "hidden"
   },
   "outputs": [],
   "source": [
    "blocks = 2\n",
    "threads = 256\n",
    "N = 1000000\n",
    "array_a = np.random.random(N)\n",
    "array_b = np.random.random(N)\n",
    "array_c = np.zeros(N)\n",
    "\n"
   ]
  },
  {
   "cell_type": "code",
   "execution_count": 6,
   "id": "c46482d5",
   "metadata": {},
   "outputs": [
    {
     "name": "stdout",
     "output_type": "stream",
     "text": [
      "0.00082\n"
     ]
    }
   ],
   "source": [
    "\n",
    "native_python_monte_kernel[blocks, threads](array_a, array_b, array_c)\n",
    "print(4.0 * np.sum(array_c) / N)"
   ]
  },
  {
   "cell_type": "code",
   "execution_count": null,
   "id": "0d6f7861",
   "metadata": {},
   "outputs": [],
   "source": []
  }
 ],
 "metadata": {
  "kernelspec": {
   "display_name": "Python 3 (ipykernel)",
   "language": "python",
   "name": "python3"
  },
  "language_info": {
   "codemirror_mode": {
    "name": "ipython",
    "version": 3
   },
   "file_extension": ".py",
   "mimetype": "text/x-python",
   "name": "python",
   "nbconvert_exporter": "python",
   "pygments_lexer": "ipython3",
   "version": "3.11.0"
  }
 },
 "nbformat": 4,
 "nbformat_minor": 5
}
